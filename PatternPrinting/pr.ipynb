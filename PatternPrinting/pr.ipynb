{
 "cells": [
  {
   "cell_type": "code",
   "execution_count": 2,
   "metadata": {},
   "outputs": [],
   "source": [
    "# One-Hot Encoding:\n",
    "\n",
    "# create a sample dataframe with a categorical variable\n",
    "import pandas as pd\n",
    "df = pd.DataFrame({'color': ['red', 'green', 'blue', 'red']})\n",
    "\n",
    "# perform one-hot encoding on the 'color' column\n",
    "\n",
    "one_hot = pd.get_dummies(df['color'])\n",
    "\n",
    "# concatenate the one-hot encoding with the original dataframe\n",
    "\n",
    "df1 = pd.concat([df, one_hot], axis=1)\n",
    "\n",
    "# drop the original 'color' column\n",
    "\n",
    "df1 = df1.drop('color', axis=1)"
   ]
  },
  {
   "cell_type": "code",
   "execution_count": 1,
   "metadata": {},
   "outputs": [
    {
     "name": "stdout",
     "output_type": "stream",
     "text": [
      "    blue  green    red\n",
      "0  False  False   True\n",
      "1  False   True  False\n",
      "2   True  False  False\n",
      "3  False  False   True\n"
     ]
    },
    {
     "name": "stderr",
     "output_type": "stream",
     "text": [
      "C:\\Users\\Anivesh\\AppData\\Local\\Temp\\ipykernel_17720\\3280769331.py:1: DeprecationWarning: \n",
      "Pyarrow will become a required dependency of pandas in the next major release of pandas (pandas 3.0),\n",
      "(to allow more performant data types, such as the Arrow string type, and better interoperability with other libraries)\n",
      "but was not found to be installed on your system.\n",
      "If this would cause problems for you,\n",
      "please provide us feedback at https://github.com/pandas-dev/pandas/issues/54466\n",
      "        \n",
      "  import pandas as pd\n"
     ]
    }
   ],
   "source": [
    "import pandas as pd\n",
    "\n",
    "# create a sample dataframe with a categorical variable\n",
    "df = pd.DataFrame({\"color\": [\"red\", \"green\", \"blue\", \"red\"]})\n",
    "\n",
    "# perform one-hot encoding on the 'color' column and concatenate\n",
    "df1 = pd.get_dummies(df, columns=[\"color\"], prefix=\"\", prefix_sep=\"\")\n",
    "\n",
    "# display the resulting dataframe\n",
    "print(df1)"
   ]
  },
  {
   "cell_type": "code",
   "execution_count": 4,
   "metadata": {},
   "outputs": [
    {
     "name": "stdout",
     "output_type": "stream",
     "text": [
      "Before Encoding the Data:\n",
      "\n",
      "  animal\n",
      "0    cat\n",
      "1    dog\n",
      "2   bird\n",
      "3    cat\n",
      "\n",
      "After Encoding the Data:\n",
      "\n",
      "  animal\n",
      "0      0\n",
      "1      1\n",
      "2     10\n",
      "3      0\n",
      "\n"
     ]
    }
   ],
   "source": [
    "import pandas as pd\n",
    "\n",
    "# create a sample dataframe with a categorical variable\n",
    "\n",
    "df = pd.DataFrame({\"animal\": [\"cat\", \"dog\", \"bird\", \"cat\"]})\n",
    "\n",
    "print(f\"Before Encoding the Data:\\n\\n{df}\\n\")\n",
    "\n",
    "# perform binary encoding on the 'animal' column\n",
    "\n",
    "animal_map = {\"cat\": 0, \"dog\": 1, \"bird\": 2}\n",
    "\n",
    "df[\"animal\"] = df[\"animal\"].map(animal_map)\n",
    "\n",
    "df[\"animal\"] = df[\"animal\"].apply(lambda x: format(x, \"b\"))\n",
    "\n",
    "# print the resulting dataframe\n",
    "\n",
    "print(f\"After Encoding the Data:\\n\\n{df}\\n\")"
   ]
  },
  {
   "cell_type": "code",
   "execution_count": 6,
   "metadata": {},
   "outputs": [
    {
     "ename": "ModuleNotFoundError",
     "evalue": "No module named 'sklearn'",
     "output_type": "error",
     "traceback": [
      "\u001b[1;31m---------------------------------------------------------------------------\u001b[0m",
      "\u001b[1;31mModuleNotFoundError\u001b[0m                       Traceback (most recent call last)",
      "Cell \u001b[1;32mIn[6], line 1\u001b[0m\n\u001b[1;32m----> 1\u001b[0m \u001b[38;5;28;01mfrom\u001b[39;00m \u001b[38;5;21;01msklearn\u001b[39;00m\u001b[38;5;21;01m.\u001b[39;00m\u001b[38;5;21;01mpreprocessing\u001b[39;00m \u001b[38;5;28;01mimport\u001b[39;00m LabelEncoder\n\u001b[0;32m      3\u001b[0m \u001b[38;5;66;03m# Create a sample dataframe with categorical data\u001b[39;00m\n\u001b[0;32m      5\u001b[0m df \u001b[38;5;241m=\u001b[39m pd\u001b[38;5;241m.\u001b[39mDataFrame({\u001b[38;5;124m'\u001b[39m\u001b[38;5;124mcolor\u001b[39m\u001b[38;5;124m'\u001b[39m: [\u001b[38;5;124m'\u001b[39m\u001b[38;5;124mred\u001b[39m\u001b[38;5;124m'\u001b[39m, \u001b[38;5;124m'\u001b[39m\u001b[38;5;124mgreen\u001b[39m\u001b[38;5;124m'\u001b[39m, \u001b[38;5;124m'\u001b[39m\u001b[38;5;124mblue\u001b[39m\u001b[38;5;124m'\u001b[39m, \u001b[38;5;124m'\u001b[39m\u001b[38;5;124mred\u001b[39m\u001b[38;5;124m'\u001b[39m, \u001b[38;5;124m'\u001b[39m\u001b[38;5;124mgreen\u001b[39m\u001b[38;5;124m'\u001b[39m]}) \n",
      "\u001b[1;31mModuleNotFoundError\u001b[0m: No module named 'sklearn'"
     ]
    }
   ],
   "source": [
    "from sklearn.preprocessing import LabelEncoder\n",
    "\n",
    "# Create a sample dataframe with categorical data\n",
    "\n",
    "df = pd.DataFrame({'color': ['red', 'green', 'blue', 'red', 'green']}) \n",
    "print(f\"Before Encoding the Data:\\n\\n{df}\\n\")\n",
    "\n",
    "# Create a LabelEncoder object\n",
    "\n",
    "le = LabelEncoder()\n",
    "\n",
    "# Fit and transform the categorical data \n",
    "df['color_label'] = le.fit_transform(df['color'])"
   ]
  },
  {
   "cell_type": "code",
   "execution_count": null,
   "metadata": {},
   "outputs": [],
   "source": [
    "import pandas as pd\n",
    "\n",
    "# ML-Dr BK Sidhu\n",
    "\n",
    "import numpy as np\n",
    "\n",
    "import matplotlib.pyplot as plt\n",
    "\n",
    "import seaborn as sns\n",
    "\n",
    "from sklearn.preprocessing import StandardScaler, MinMaxScaler\n",
    "\n",
    "pd.set_option(\"display.max_columns\", None)\n",
    "\n",
    "pd.set_option(\"display.max_rows\", 200)\n",
    "\n",
    "df = pd.read_csv(\"/content/fifa.csv\", index_col=0)\n",
    "\n",
    "print(f\"There are {df.shape[0]} rows and {df.shape[1]} columns in the dataframe.\")\n",
    "\n",
    "df[\"Acceleration\"].hist(bins=20)\n",
    "\n",
    "plt.title(\"Acceleration before transformation\")\n",
    "\n",
    "plt.show()"
   ]
  },
  {
   "cell_type": "code",
   "execution_count": 7,
   "metadata": {},
   "outputs": [
    {
     "name": "stdout",
     "output_type": "stream",
     "text": [
      "Before Encoding the Data:\n",
      "\n",
      "  quality\n",
      "0     low\n",
      "1  medium\n",
      "2    high\n",
      "3  medium\n",
      "\n"
     ]
    }
   ],
   "source": [
    "# Ordinal Encoding:\n",
    "\n",
    "# create a sample dataframe with a categorical variable\n",
    "\n",
    "df = pd.DataFrame({'quality': ['low', 'medium', 'high', 'medium']})\n",
    "\n",
    "print(f\"Before Encoding the Data:\\n\\n{df}\\n\")\n",
    "\n",
    "# specify the order of the categories\n",
    "\n",
    "quality_map = {'low': 0, 'medium': 1, 'high': 2}\n",
    "\n",
    "# perform ordinal encoding on the 'quality' column\n",
    "\n",
    "df['quality_map'] = df['quality'].map(quality_map)"
   ]
  },
  {
   "cell_type": "code",
   "execution_count": 11,
   "metadata": {},
   "outputs": [
    {
     "ename": "SyntaxError",
     "evalue": "invalid syntax (3458756646.py, line 8)",
     "output_type": "error",
     "traceback": [
      "\u001b[1;36m  Cell \u001b[1;32mIn[11], line 8\u001b[1;36m\u001b[0m\n\u001b[1;33m    df['Acceleration_z_std']=std_scaler.\u001b[0m\n\u001b[1;37m                                        ^\u001b[0m\n\u001b[1;31mSyntaxError\u001b[0m\u001b[1;31m:\u001b[0m invalid syntax\n"
     ]
    }
   ],
   "source": [
    "import pandas as pd\n",
    "import numpy as np\n",
    "import matplotlib.pyplot as plt\n",
    "from sklearn.preprocessing import StandardScaler, MinMaxScaler\n",
    "\n",
    "std_scaler=StandardScaler()\n",
    "\n",
    "df['Acceleration_z_std']=std_scaler.\n",
    "\n",
    "fit_transform(df[['Acceleration']])\n",
    "\n",
    "df['Acceleration_z_std'].hist(bins=20)\n",
    "\n",
    "plt.title('Acceleration after standardization')\n",
    "\n",
    "plt.show()\n",
    "\n",
    "minmax_scaler=MinMaxScaler()\n",
    "\n",
    "df['Acceleration_minmax']=minmax_scaler.\n",
    "\n",
    "fit_transform(df[['Acceleration']])\n",
    "\n",
    "df['Acceleration_minmax'].hist(bins=20)\n",
    "\n",
    "plt.title('Acceleration after normalization')\n",
    "\n",
    "plt.show()\n",
    "\n",
    "df.drop(['Acceleration'], axis-1, inplace=True)"
   ]
  }
 ],
 "metadata": {
  "kernelspec": {
   "display_name": "Python 3",
   "language": "python",
   "name": "python3"
  },
  "language_info": {
   "codemirror_mode": {
    "name": "ipython",
    "version": 3
   },
   "file_extension": ".py",
   "mimetype": "text/x-python",
   "name": "python",
   "nbconvert_exporter": "python",
   "pygments_lexer": "ipython3",
   "version": "3.12.1"
  }
 },
 "nbformat": 4,
 "nbformat_minor": 2
}
